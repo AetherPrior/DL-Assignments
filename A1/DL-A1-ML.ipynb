{
 "cells": [
  {
   "cell_type": "code",
   "execution_count": 12,
   "metadata": {
    "colab": {
     "base_uri": "https://localhost:8080/",
     "height": 35
    },
    "executionInfo": {
     "elapsed": 1440,
     "status": "ok",
     "timestamp": 1603006612451,
     "user": {
      "displayName": "Varun Gumma",
      "photoUrl": "https://lh3.googleusercontent.com/a-/AOh14GiSS_Ifk3ac_Y_f84kJd9hsJcg3Ejz8od-DJe3Ccw=s64",
      "userId": "07290751716990840185"
     },
     "user_tz": -330
    },
    "id": "0Ice7t-sAoV9",
    "outputId": "f2fc964e-47bb-4e5c-9b91-2866c3996ec5"
   },
   "outputs": [],
   "source": [
    "import pandas as pd\n",
    "import numpy as np\n",
    "from time import time\n",
    "from sklearn.svm import SVC\n",
    "import matplotlib.pyplot as plt\n",
    "from sklearn.linear_model import LogisticRegression\n",
    "from sklearn.tree import DecisionTreeClassifier\n",
    "from sklearn.ensemble import RandomForestClassifier\n",
    "from sklearn.neighbors import KNeighborsClassifier\n",
    "from sklearn.metrics import accuracy_score\n",
    "plt.style.use(\"ggplot\")"
   ]
  },
  {
   "cell_type": "code",
   "execution_count": 13,
   "metadata": {},
   "outputs": [],
   "source": [
    "def pool(X, input_shape=28, output_shape=14, pool_type=\"avg\"):\n",
    "    \n",
    "    scaled_images = []\n",
    "    in_sh = input_shape\n",
    "    out_sh = output_shape\n",
    "    bin_size = in_sh // out_sh\n",
    "    for img in X:\n",
    "        img = img.reshape(in_sh, in_sh).reshape((out_sh, bin_size, out_sh, bin_size))\n",
    "        if pool_type == \"max\":\n",
    "            img = img.max(3).max(1)\n",
    "        elif pool_type == \"avg\":\n",
    "            img = img.mean(3).mean(1)\n",
    "        scaled_images.append(img.flatten())\n",
    "    return np.array(scaled_images)"
   ]
  },
  {
   "cell_type": "code",
   "execution_count": 14,
   "metadata": {
    "colab": {
     "base_uri": "https://localhost:8080/",
     "height": 35
    },
    "executionInfo": {
     "elapsed": 6555,
     "status": "ok",
     "timestamp": 1603006623622,
     "user": {
      "displayName": "Varun Gumma",
      "photoUrl": "https://lh3.googleusercontent.com/a-/AOh14GiSS_Ifk3ac_Y_f84kJd9hsJcg3Ejz8od-DJe3Ccw=s64",
      "userId": "07290751716990840185"
     },
     "user_tz": -330
    },
    "id": "l9eQRae1A6l1",
    "outputId": "ee0f6262-58ab-491b-f305-4f93e6fc702a"
   },
   "outputs": [],
   "source": [
    "accuracies = []\n",
    "train_data = pd.read_csv(\"mnist_train.csv\")\n",
    "test_data = pd.read_csv(\"mnist_test.csv\")"
   ]
  },
  {
   "cell_type": "code",
   "execution_count": 15,
   "metadata": {
    "id": "90goe6IDukwk"
   },
   "outputs": [],
   "source": [
    "y_train = np.array(train_data[\"label\"])\n",
    "y_test = np.array(test_data[\"label\"])\n",
    "x_train = np.array(train_data.drop(\"label\", axis=1))\n",
    "x_test = np.array(test_data.drop(\"label\", axis=1))"
   ]
  },
  {
   "cell_type": "code",
   "execution_count": 16,
   "metadata": {},
   "outputs": [],
   "source": [
    "pool_type = \"max\"\n",
    "x_train = pool(x_train, pool_type=pool_type)\n",
    "x_test = pool(x_test, pool_type=pool_type)"
   ]
  },
  {
   "cell_type": "code",
   "execution_count": 17,
   "metadata": {
    "colab": {
     "base_uri": "https://localhost:8080/",
     "height": 70
    },
    "executionInfo": {
     "elapsed": 49252,
     "status": "ok",
     "timestamp": 1603007490736,
     "user": {
      "displayName": "Varun Gumma",
      "photoUrl": "https://lh3.googleusercontent.com/a-/AOh14GiSS_Ifk3ac_Y_f84kJd9hsJcg3Ejz8od-DJe3Ccw=s64",
      "userId": "07290751716990840185"
     },
     "user_tz": -330
    },
    "id": "5Rn5ayNyCd9u",
    "outputId": "e84e8dfc-44ab-492b-c6aa-c0b24c998a5d"
   },
   "outputs": [
    {
     "name": "stdout",
     "output_type": "stream",
     "text": [
      "latest Logistic Regression Accuracy: 0.918\n",
      "time: 77.8001720905304 s\n"
     ]
    }
   ],
   "source": [
    "# Logistic Regression\n",
    "now = time()\n",
    "classifier = LogisticRegression(n_jobs=-1, verbose=0, max_iter=500) \n",
    "classifier.fit(x_train, y_train)\n",
    "y_pred = classifier.predict(x_test)\n",
    "acc = round(accuracy_score(y_test, y_pred), 3)\n",
    "accuracies.append(acc)\n",
    "print(\"latest Logistic Regression Accuracy: {}\".format(acc))\n",
    "print(\"time: {} s\".format(time() - now))"
   ]
  },
  {
   "cell_type": "code",
   "execution_count": 18,
   "metadata": {
    "colab": {
     "background_save": true,
     "base_uri": "https://localhost:8080/",
     "height": 35
    },
    "id": "D27IgPQ-D88x"
   },
   "outputs": [
    {
     "name": "stdout",
     "output_type": "stream",
     "text": [
      "latest Support Vector Machine Accuracy: 0.976\n",
      "time: 208.16008400917053 s\n"
     ]
    }
   ],
   "source": [
    "# Support Vector Machine\n",
    "now = time()\n",
    "classifier = SVC(degree=2, kernel=\"rbf\", verbose=0)\n",
    "classifier.fit(x_train, y_train)\n",
    "y_pred = classifier.predict(x_test)\n",
    "acc = round(accuracy_score(y_test, y_pred), 3)\n",
    "accuracies.append(acc)\n",
    "print(\"latest Support Vector Machine Accuracy: {}\".format(acc))\n",
    "print(\"time: {} s\".format(time() - now))"
   ]
  },
  {
   "cell_type": "code",
   "execution_count": 19,
   "metadata": {
    "colab": {
     "base_uri": "https://localhost:8080/",
     "height": 35
    },
    "executionInfo": {
     "elapsed": 22443,
     "status": "ok",
     "timestamp": 1603006693666,
     "user": {
      "displayName": "Varun Gumma",
      "photoUrl": "https://lh3.googleusercontent.com/a-/AOh14GiSS_Ifk3ac_Y_f84kJd9hsJcg3Ejz8od-DJe3Ccw=s64",
      "userId": "07290751716990840185"
     },
     "user_tz": -330
    },
    "id": "3cas6OjKE4Uf",
    "outputId": "9e53f47f-5ba8-41ab-f5f0-38132ddaf2c6"
   },
   "outputs": [
    {
     "name": "stdout",
     "output_type": "stream",
     "text": [
      "latest Decision Tree Accuracy: 0.892\n",
      "time: 7.878052234649658 s\n"
     ]
    }
   ],
   "source": [
    "# Decision Tree\n",
    "now = time()\n",
    "classifier = DecisionTreeClassifier()\n",
    "classifier.fit(x_train, y_train)\n",
    "y_pred = classifier.predict(x_test)\n",
    "acc = round(accuracy_score(y_test, y_pred), 3)\n",
    "accuracies.append(acc)\n",
    "print(\"latest Decision Tree Accuracy: {}\".format(acc))\n",
    "print(\"time: {} s\".format(time() - now))"
   ]
  },
  {
   "cell_type": "code",
   "execution_count": 20,
   "metadata": {
    "colab": {
     "base_uri": "https://localhost:8080/",
     "height": 35
    },
    "executionInfo": {
     "elapsed": 50159,
     "status": "ok",
     "timestamp": 1603006755460,
     "user": {
      "displayName": "Varun Gumma",
      "photoUrl": "https://lh3.googleusercontent.com/a-/AOh14GiSS_Ifk3ac_Y_f84kJd9hsJcg3Ejz8od-DJe3Ccw=s64",
      "userId": "07290751716990840185"
     },
     "user_tz": -330
    },
    "id": "HK69a9mkMoB0",
    "outputId": "049a8528-5af9-409c-b2ad-6750fff337c1"
   },
   "outputs": [
    {
     "name": "stdout",
     "output_type": "stream",
     "text": [
      "latest Random Forest Accuracy: 0.967\n",
      "time: 30.418546438217163 s\n"
     ]
    }
   ],
   "source": [
    "# Random Forest\n",
    "now = time()\n",
    "classifier = RandomForestClassifier()\n",
    "classifier.fit(x_train, y_train)\n",
    "y_pred = classifier.predict(x_test)\n",
    "acc = round(accuracy_score(y_test, y_pred), 3)\n",
    "accuracies.append(acc)\n",
    "print(\"latest Random Forest Accuracy: {}\".format(acc))\n",
    "print(\"time: {} s\".format(time() - now))"
   ]
  },
  {
   "cell_type": "code",
   "execution_count": 21,
   "metadata": {
    "colab": {
     "base_uri": "https://localhost:8080/",
     "height": 35
    },
    "executionInfo": {
     "elapsed": 614604,
     "status": "ok",
     "timestamp": 1603007383898,
     "user": {
      "displayName": "Varun Gumma",
      "photoUrl": "https://lh3.googleusercontent.com/a-/AOh14GiSS_Ifk3ac_Y_f84kJd9hsJcg3Ejz8od-DJe3Ccw=s64",
      "userId": "07290751716990840185"
     },
     "user_tz": -330
    },
    "id": "4IJuANDdr85n",
    "outputId": "c48e8ff2-077c-43d9-cd4e-6afebfcfc717"
   },
   "outputs": [
    {
     "name": "stdout",
     "output_type": "stream",
     "text": [
      "latest K-Nearest Neighbor Accuracy: 0.967\n",
      "time: 133.60746383666992 s\n"
     ]
    }
   ],
   "source": [
    "# K-nearest neighbours\n",
    "now = time()\n",
    "classifier = KNeighborsClassifier(n_neighbors=5, n_jobs=-1)\n",
    "classifier.fit(x_train, y_train)\n",
    "y_pred = classifier.predict(x_test)\n",
    "acc = round(accuracy_score(y_test, y_pred), 3)\n",
    "accuracies.append(acc)\n",
    "print(\"latest K-Nearest Neighbor Accuracy: {}\".format(acc))\n",
    "print(\"time: {} s\".format(time() - now))"
   ]
  },
  {
   "cell_type": "code",
   "execution_count": 22,
   "metadata": {
    "id": "wVDvN2FeM0gn"
   },
   "outputs": [
    {
     "data": {
      "image/png": "[encoded data removed]",
      "text/plain": [
       "<Figure size 432x288 with 1 Axes>"
      ]
     },
     "metadata": {},
     "output_type": "display_data"
    }
   ],
   "source": [
    "plt.xlim(0, 2)\n",
    "plt.ylabel(\"accuracies\")\n",
    "plt.title(\"accuracy plots for various ML models ({})\".format(pool_type))\n",
    "labels = [\"LR\", \"SVM\", \"DT\", \"RF\", \"KNN\"]\n",
    "for (y, label) in zip(accuracies, labels):\n",
    "    plt.scatter(1, y, marker='o', color='b')\n",
    "    plt.axhline(y=y, color='y', linestyle=\"-.\")\n",
    "    plt.annotate(label, (1, y))\n",
    "plt.show()"
   ]
  },
  {
   "cell_type": "code",
   "execution_count": null,
   "metadata": {},
   "outputs": [],
   "source": []
  }
 ],
 "metadata": {
  "colab": {
   "authorship_tag": "ABX9TyNHJPAqf07fhpF3CXNxzZia",
   "collapsed_sections": [],
   "name": "DL-A1-ML",
   "version": ""
  },
  "kernelspec": {
   "display_name": "Python 3",
   "language": "python",
   "name": "python3"
  },
  "language_info": {
   "codemirror_mode": {
    "name": "ipython",
    "version": 3
   },
   "file_extension": ".py",
   "mimetype": "text/x-python",
   "name": "python",
   "nbconvert_exporter": "python",
   "pygments_lexer": "ipython3",
   "version": "3.8.6"
  }
 },
 "nbformat": 4,
 "nbformat_minor": 1
}
