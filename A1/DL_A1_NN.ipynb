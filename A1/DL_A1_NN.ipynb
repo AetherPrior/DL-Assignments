{
  "nbformat": 4,
  "nbformat_minor": 0,
  "metadata": {
    "accelerator": "GPU",
    "colab": {
      "name": "DL-A1-NN",
      "provenance": [],
      "collapsed_sections": []
    },
    "kernelspec": {
      "display_name": "Python 3",
      "name": "python3"
    }
  },
  "cells": [
    {
      "cell_type": "code",
      "metadata": {
        "id": "0t4esOGa-_DP"
      },
      "source": [
        "from time import time\n",
        "from tensorflow import device\n",
        "from tensorflow.test import gpu_device_name\n",
        "from tensorflow.keras.layers import Dense, Flatten, Dropout, BatchNormalization\n",
        "from tensorflow.keras.models import Sequential\n",
        "from tensorflow.keras.optimizers import Adam, SGD\n",
        "from tensorflow.keras.callbacks import EarlyStopping\n",
        "from tensorflow.keras.datasets.mnist import load_data\n",
        "from tensorflow.keras.initializers import GlorotUniform, HeUniform\n",
        "import matplotlib.pyplot as plt\n",
        "plt.style.use(\"ggplot\")\n",
        "%matplotlib notebook"
      ],
      "execution_count": null,
      "outputs": []
    },
    {
      "cell_type": "code",
      "metadata": {
        "id": "L2heQo2F6eo3"
      },
      "source": [
        "(x_train, y_train), (x_test, y_test) = load_data(\"mnist.npz\")"
      ],
      "execution_count": null,
      "outputs": []
    },
    {
      "cell_type": "code",
      "metadata": {
        "id": "_2XkF9rxCtHu"
      },
      "source": [
        "device_name = gpu_device_name()\n",
        "callback = EarlyStopping(monitor=\"sparse_categorical_accuracy\", patience=3)\n",
        "print(device_name)\n",
        "model_labels = []\n",
        "various_models_accuracies = []"
      ],
      "execution_count": null,
      "outputs": []
    },
    {
      "cell_type": "code",
      "metadata": {
        "id": "bxCy3BKVNauI"
      },
      "source": [
        "# model - 1 (shallow)\n",
        "start = time()\n",
        "with device(device_name):\n",
        "    model = Sequential()\n",
        "    model.add(Flatten(input_shape=(28, 28, 1)))\n",
        "    model.add(Dense(397, activation=\"relu\"))\n",
        "    model.add(Dense(10, activation=\"softmax\"))\n",
        "    model.compile(optimizer=\"adam\",\n",
        "                  loss=\"sparse_categorical_crossentropy\",\n",
        "                  metrics=[\"sparse_categorical_accuracy\"])\n",
        "    log = model.fit(x_train,\n",
        "                    y_train,\n",
        "                    epochs=100,\n",
        "                    batch_size=64,\n",
        "                    callbacks=[callback],\n",
        "                    verbose=1)\n",
        "    _, acc = model.evaluate(x_test, y_test, batch_size=64)\n",
        "    accuracies = log.history[\"sparse_categorical_accuracy\"]\n",
        "    various_models_accuracies.append(accuracies)\n",
        "    model_labels.append(\"shallow-1\")\n",
        "    print(\"train acc: {}\\ntest acc. {}\".format(accuracies[-1], acc))\n",
        "    print(\"time taken: {}s\".format(time() - start))"
      ],
      "execution_count": null,
      "outputs": []
    },
    {
      "cell_type": "code",
      "metadata": {
        "id": "7IDLNrJH8u0t"
      },
      "source": [
        "# model - 2 (shallow)\n",
        "start = time()\n",
        "with device(device_name):\n",
        "    model = Sequential()\n",
        "    model.add(Flatten(input_shape=(28, 28, 1)))\n",
        "    model.add(Dense(526, activation=\"relu\"))\n",
        "    model.add(Dense(268, activation=\"relu\"))\n",
        "    model.add(Dense(10, activation=\"softmax\"))\n",
        "    model.compile(optimizer=\"adam\",\n",
        "                  loss=\"sparse_categorical_crossentropy\",\n",
        "                  metrics=[\"sparse_categorical_accuracy\"])\n",
        "    log = model.fit(x_train,\n",
        "                    y_train,\n",
        "                    epochs=100,\n",
        "                    batch_size=64,\n",
        "                    callbacks=[callback],\n",
        "                    verbose=1)\n",
        "    _, acc = model.evaluate(x_test, y_test, batch_size=64)\n",
        "    accuracies = log.history[\"sparse_categorical_accuracy\"]\n",
        "    various_models_accuracies.append(accuracies)\n",
        "    model_labels.append(\"shallow-2\")\n",
        "    print(\"train acc: {}\\ntest acc. {}\".format(accuracies[-1], acc))\n",
        "    print(\"time taken: {}s\".format(time() - start))"
      ],
      "execution_count": null,
      "outputs": []
    },
    {
      "cell_type": "code",
      "metadata": {
        "id": "QYwwJN067Tes"
      },
      "source": [
        "# model - 3 (change batch size)\n",
        "start = time()\n",
        "with device(device_name):\n",
        "    model = Sequential()\n",
        "    model.add(Flatten(input_shape=(28, 28, 1)))\n",
        "    for _ in range(3):\n",
        "        model.add(Dense(128, activation=\"relu\"))\n",
        "    model.add(Dense(10, activation=\"softmax\"))\n",
        "    model.compile(optimizer=\"adam\",\n",
        "                  loss=\"sparse_categorical_crossentropy\",\n",
        "                  metrics=[\"sparse_categorical_accuracy\"])\n",
        "    log = model.fit(x_train,\n",
        "                    y_train,\n",
        "                    epochs=100,\n",
        "                    batch_size=1024,\n",
        "                    callbacks=[callback],\n",
        "                    verbose=1)\n",
        "    _, acc = model.evaluate(x_test, y_test, batch_size=len(x_test))\n",
        "    accuracies = log.history[\"sparse_categorical_accuracy\"]\n",
        "    print(\"train acc: {}\\ntest acc. {}\".format(accuracies[-1], acc))\n",
        "    various_models_accuracies.append(accuracies)\n",
        "    model_labels.append(\"change bach size (1024)\")\n",
        "    print(\"time taken: {}s\".format(time() - start))"
      ],
      "execution_count": null,
      "outputs": []
    },
    {
      "cell_type": "code",
      "metadata": {
        "id": "1r6yIoK4_coc"
      },
      "source": [
        "# model - 4 (Adam)\n",
        "start = time()\n",
        "with device(device_name):\n",
        "    units = 512\n",
        "    model = Sequential()\n",
        "    model.add(Flatten(input_shape=(28, 28, 1)))\n",
        "    for _ in range(5):\n",
        "        model.add(Dense(units, activation=\"relu\"))\n",
        "        units //= 2\n",
        "    model.add(Dense(10, activation=\"softmax\"))\n",
        "    optim = Adam(learning_rate=0.001)\n",
        "    model.compile(optimizer=optim,\n",
        "                  loss=\"sparse_categorical_crossentropy\",\n",
        "                  metrics=[\"sparse_categorical_accuracy\"])\n",
        "    log = model.fit(x_train,\n",
        "                    y_train,\n",
        "                    epochs=100,\n",
        "                    batch_size=64,\n",
        "                    callbacks=[callback],\n",
        "                    verbose=1)\n",
        "    _, acc = model.evaluate(x_test, y_test, batch_size=64)\n",
        "    accuracies = log.history[\"sparse_categorical_accuracy\"]\n",
        "    print(\"train acc: {}\\ntest acc. {}\".format(accuracies[-1], acc))\n",
        "    various_models_accuracies.append(accuracies)\n",
        "    model_labels.append(\"with adam optim\")\n",
        "    print(\"time taken: {}s\".format(time() - start))"
      ],
      "execution_count": null,
      "outputs": []
    },
    {
      "cell_type": "code",
      "metadata": {
        "id": "qLviSHE7Pz0i"
      },
      "source": [
        "# model - 5 (SGD with momentum)\n",
        "start = time()\n",
        "with device(device_name):\n",
        "    units = 512\n",
        "    model = Sequential()\n",
        "    model.add(Flatten(input_shape=(28, 28, 1)))\n",
        "    for _ in range(5):\n",
        "        model.add(Dense(units, activation=\"relu\"))\n",
        "        units //= 2\n",
        "    model.add(Dense(10, activation=\"softmax\"))\n",
        "    optim = SGD(learning_rate=0.0001, momentum=0.9, nesterov=False)\n",
        "    model.compile(optimizer=optim,\n",
        "                  loss=\"sparse_categorical_crossentropy\",\n",
        "                  metrics=[\"sparse_categorical_accuracy\"])\n",
        "    log = model.fit(x_train,\n",
        "                    y_train,\n",
        "                    epochs=100,\n",
        "                    batch_size=64,\n",
        "                    callbacks=[callback],\n",
        "                    verbose=1)\n",
        "    _, acc = model.evaluate(x_test, y_test, batch_size=64)\n",
        "    accuracies = log.history[\"sparse_categorical_accuracy\"]\n",
        "    print(\"train acc: {}\\ntest acc. {}\".format(accuracies[-1], acc))\n",
        "    various_models_accuracies.append(accuracies)\n",
        "    model_labels.append(\"with momentum optim\")\n",
        "    print(\"time taken: {}s\".format(time() - start))"
      ],
      "execution_count": null,
      "outputs": []
    },
    {
      "cell_type": "code",
      "metadata": {
        "id": "FPOi5hLcRhwx"
      },
      "source": [
        "# model - 6 (Glorot Uniform)\n",
        "start = time()\n",
        "initializer = GlorotUniform()\n",
        "with device(device_name):\n",
        "    units = 512\n",
        "    model = Sequential()\n",
        "    model.add(Flatten(input_shape=(28, 28, 1)))\n",
        "    for _ in range(5):\n",
        "        model.add(Dense(units, \n",
        "                        activation=\"relu\", \n",
        "                        kernel_initializer=initializer))\n",
        "        units //= 2\n",
        "    model.add(Dense(10, activation=\"softmax\", kernel_initializer=initializer))\n",
        "    model.compile(optimizer=\"adam\",\n",
        "                  loss=\"sparse_categorical_crossentropy\",\n",
        "                  metrics=[\"sparse_categorical_accuracy\"])\n",
        "    log = model.fit(x_train,\n",
        "                    y_train,\n",
        "                    epochs=100,\n",
        "                    batch_size=64,\n",
        "                    callbacks=[callback],\n",
        "                    verbose=1)\n",
        "    _, acc = model.evaluate(x_test, y_test, batch_size=64)\n",
        "    accuracies = log.history[\"sparse_categorical_accuracy\"]\n",
        "    print(\"train acc: {}\\ntest acc. {}\".format(accuracies[-1], acc))\n",
        "    various_models_accuracies.append(accuracies)\n",
        "    model_labels.append(\"with glorot uniform\")\n",
        "    print(\"time taken: {}s\".format(time() - start))"
      ],
      "execution_count": null,
      "outputs": []
    },
    {
      "cell_type": "code",
      "metadata": {
        "id": "LriqgdGHeJ26"
      },
      "source": [
        "# model - 7 (He Uniform)\n",
        "start = time()\n",
        "initializer = HeUniform()\n",
        "with device(device_name):\n",
        "    units = 512\n",
        "    model = Sequential()\n",
        "    model.add(Flatten(input_shape=(28, 28, 1)))\n",
        "    for _ in range(5):\n",
        "        model.add(Dense(units, \n",
        "                        activation=\"relu\", \n",
        "                        kernel_initializer=initializer))\n",
        "        units //= 2\n",
        "    model.add(Dense(10, activation=\"softmax\", kernel_initializer=initializer))\n",
        "    model.compile(optimizer=\"adam\",\n",
        "                  loss=\"sparse_categorical_crossentropy\",\n",
        "                  metrics=[\"sparse_categorical_accuracy\"])\n",
        "    log = model.fit(x_train,\n",
        "                    y_train,\n",
        "                    epochs=100,\n",
        "                    batch_size=64,\n",
        "                    callbacks=[callback],\n",
        "                    verbose=1)\n",
        "    _, acc = model.evaluate(x_test, y_test, batch_size=64)\n",
        "    accuracies = log.history[\"sparse_categorical_accuracy\"]\n",
        "    print(\"train acc: {}\\ntest acc. {}\".format(accuracies[-1], acc))\n",
        "    various_models_accuracies.append(accuracies)\n",
        "    model_labels.append(\"with He uniform\")\n",
        "    print(\"time taken: {}s\".format(time() - start))"
      ],
      "execution_count": null,
      "outputs": []
    },
    {
      "cell_type": "code",
      "metadata": {
        "id": "2Hd9PXLyPiOm"
      },
      "source": [
        "#model 8 - autoencoder type\n",
        "start = time()\n",
        "with device(device_name):\n",
        "    units = 1024\n",
        "    model = Sequential()\n",
        "    model.add(Flatten(input_shape=(28, 28, 1)))\n",
        "    while units > 8:\n",
        "        units //= 2\n",
        "        model.add(Dense(units, activation=\"relu\"))\n",
        "    while units < 64:\n",
        "        units *= 2\n",
        "        model.add(Dense(units, activation=\"relu\"))\n",
        "\n",
        "    model.add(Dense(10, activation=\"softmax\"))\n",
        "    model.compile(optimizer=\"adam\",\n",
        "                  loss=\"sparse_categorical_crossentropy\",\n",
        "                  metrics=[\"sparse_categorical_accuracy\"])\n",
        "    log = model.fit(x_train,\n",
        "                    y_train,\n",
        "                    epochs=100,\n",
        "                    batch_size=64,\n",
        "                    callbacks=[callback],\n",
        "                    verbose=1)\n",
        "    _, acc = model.evaluate(x_test, y_test, batch_size=64)\n",
        "    accuracies = log.history[\"sparse_categorical_accuracy\"]\n",
        "    print(\"train acc: {}\\ntest acc. {}\".format(accuracies[-1], acc))\n",
        "    various_models_accuracies.append(accuracies)\n",
        "    model_labels.append(\"autoencoder-based\")\n",
        "    print(\"time taken: {}s\".format(time() - start))"
      ],
      "execution_count": null,
      "outputs": []
    },
    {
      "cell_type": "markdown",
      "metadata": {
        "id": "9TCvEwyiQl3H"
      },
      "source": [
        "## Compare the influence of activation functions while keeping other parameters the same"
      ]
    },
    {
      "cell_type": "code",
      "metadata": {
        "id": "XqdjAoi0QdpR"
      },
      "source": [
        "# model - 9 (tanh)\n",
        "start = time()\n",
        "with device(device_name):\n",
        "    units = 512\n",
        "    model = Sequential()\n",
        "    model.add(Flatten(input_shape=(28, 28, 1)))\n",
        "    for _ in range(5):\n",
        "        model.add(Dense(units, activation=\"tanh\"))\n",
        "        units //= 2\n",
        "    model.add(Dense(10, activation=\"softmax\"))\n",
        "    model.compile(optimizer=\"adam\",\n",
        "                  loss=\"sparse_categorical_crossentropy\",\n",
        "                  metrics=[\"sparse_categorical_accuracy\"])\n",
        "    log = model.fit(x_train,\n",
        "                    y_train,\n",
        "                    epochs=100,\n",
        "                    batch_size=64,\n",
        "                    callbacks=[callback],\n",
        "                    verbose=1)\n",
        "    _, acc = model.evaluate(x_test, y_test, batch_size=64)\n",
        "    accuracies = log.history[\"sparse_categorical_accuracy\"]\n",
        "    print(\"train acc: {}\\ntest acc. {}\".format(accuracies[-1], acc))\n",
        "    various_models_accuracies.append(accuracies)\n",
        "    model_labels.append(\"5 hidden layers with tanh\")\n",
        "    print(\"time taken: {}s\".format(time() - start))"
      ],
      "execution_count": null,
      "outputs": []
    },
    {
      "cell_type": "code",
      "metadata": {
        "id": "2HwIKtzJREoA"
      },
      "source": [
        "#model - 10 (sigmoid)\n",
        "start = time()\n",
        "with device(device_name):\n",
        "    units = 512\n",
        "    model = Sequential()\n",
        "    model.add(Flatten(input_shape=(28, 28, 1)))\n",
        "    for _ in range(5):\n",
        "        model.add(Dense(units, activation=\"sigmoid\"))\n",
        "        units //= 2\n",
        "    model.add(Dense(10, activation=\"softmax\"))\n",
        "    model.compile(optimizer=\"adam\",\n",
        "                  loss=\"sparse_categorical_crossentropy\",\n",
        "                  metrics=[\"sparse_categorical_accuracy\"])\n",
        "    log = model.fit(x_train,\n",
        "                    y_train,\n",
        "                    epochs=100,\n",
        "                    batch_size=64,\n",
        "                    callbacks=[callback],\n",
        "                    verbose=1)\n",
        "    _, acc = model.evaluate(x_test, y_test, batch_size=64)\n",
        "    accuracies = log.history[\"sparse_categorical_accuracy\"]\n",
        "    print(\"train acc: {}\\ntest acc. {}\".format(accuracies[-1], acc))\n",
        "    various_models_accuracies.append(accuracies)\n",
        "    model_labels.append(\"5 hidden layers with sigmoid\")\n",
        "    print(\"time taken: {}s\".format(time() - start))"
      ],
      "execution_count": null,
      "outputs": []
    },
    {
      "cell_type": "code",
      "metadata": {
        "id": "PfGNj1J3TSdv"
      },
      "source": [
        "#model - 11 (relu)\n",
        "start = time()\n",
        "with device(device_name):\n",
        "    units = 512\n",
        "    model = Sequential()\n",
        "    model.add(Flatten(input_shape=(28, 28, 1)))\n",
        "    for _ in range(5):\n",
        "        model.add(Dense(units, activation=\"relu\"))\n",
        "        units //= 2\n",
        "    model.add(Dense(10, activation=\"softmax\"))\n",
        "    model.compile(optimizer=\"adam\",\n",
        "                  loss=\"sparse_categorical_crossentropy\",\n",
        "                  metrics=[\"sparse_categorical_accuracy\"])\n",
        "    log = model.fit(x_train,\n",
        "                    y_train,\n",
        "                    epochs=100,\n",
        "                    batch_size=64,\n",
        "                    callbacks=[callback],\n",
        "                    verbose=1)\n",
        "    _, acc = model.evaluate(x_test, y_test, batch_size=64)\n",
        "    accuracies = log.history[\"sparse_categorical_accuracy\"]\n",
        "    print(\"train acc: {}\\ntest acc. {}\".format(accuracies[-1], acc))\n",
        "    various_models_accuracies.append(accuracies)\n",
        "    model_labels.append(\"5 hidden layers with relu\")\n",
        "    print(\"time taken: {}s\".format(time() - start))"
      ],
      "execution_count": null,
      "outputs": []
    },
    {
      "cell_type": "code",
      "metadata": {
        "id": "TOTxBUJlUEMG"
      },
      "source": [
        "##Deep NN to show the effect of overfitting\n",
        "#model 12- without dropout\n",
        "start = time()\n",
        "with device(device_name):\n",
        "    units = 700\n",
        "    model = Sequential()\n",
        "    model.add(Flatten(input_shape=(28, 28, 1)))\n",
        "    for _ in range(5):\n",
        "        model.add(Dense(units, activation=\"relu\"))\n",
        "        units -= 128 #arithmetic progression\n",
        "    model.add(Dense(10, activation=\"softmax\"))\n",
        "    model.compile(optimizer=\"adam\",\n",
        "                  loss=\"sparse_categorical_crossentropy\",\n",
        "                  metrics=[\"sparse_categorical_accuracy\"])\n",
        "    log = model.fit(x_train,\n",
        "                    y_train,\n",
        "                    epochs=100,\n",
        "                    batch_size=64,\n",
        "                    callbacks=[callback],\n",
        "                    verbose=1,\n",
        "                    validation_split=0.75)\n",
        "    _, acc = model.evaluate(x_test, y_test, batch_size=64)\n",
        "    accuracies = log.history[\"sparse_categorical_accuracy\"]\n",
        "    print(\"train acc: {}\\ntest acc. {}\".format(accuracies[-1], acc))\n",
        "    various_models_accuracies.append(accuracies)\n",
        "    model_labels.append(\"5 hidden layers no dropout\")\n",
        "    print(\"time taken: {}s\".format(time() - start))"
      ],
      "execution_count": null,
      "outputs": []
    },
    {
      "cell_type": "code",
      "metadata": {
        "id": "ELPBVjATaGSF"
      },
      "source": [
        "#model 13- with regularization\n",
        "start = time()\n",
        "with device(device_name):\n",
        "    units = 700\n",
        "    model = Sequential()\n",
        "    model.add(Flatten(input_shape=(28, 28, 1)))\n",
        "    for _ in range(5):\n",
        "        model.add(Dense(units, activation=\"relu\"))\n",
        "        model.add(Dropout(0.2))\n",
        "        units -= 128 #arithmetic progression\n",
        "    model.add(Dense(10, activation=\"softmax\"))\n",
        "    model.compile(optimizer=\"adam\",\n",
        "                  loss=\"sparse_categorical_crossentropy\",\n",
        "                  metrics=[\"sparse_categorical_accuracy\"])\n",
        "    log = model.fit(x_train,\n",
        "                    y_train,\n",
        "                    epochs=100,\n",
        "                    batch_size=64,\n",
        "                    callbacks=[callback],\n",
        "                    verbose=1,\n",
        "                    validation_split=0.75)\n",
        "    _, acc = model.evaluate(x_test, y_test, batch_size=64)\n",
        "    accuracies = log.history[\"sparse_categorical_accuracy\"]\n",
        "    print(\"train acc: {}\\ntest acc. {}\".format(accuracies[-1], acc))\n",
        "    various_models_accuracies.append(accuracies)\n",
        "    model_labels.append(\"5 Hidden layers, with dropout\")\n",
        "    print(\"time taken: {}s\".format(time() - start))"
      ],
      "execution_count": null,
      "outputs": []
    },
    {
      "cell_type": "code",
      "metadata": {
        "id": "qDofIHuBeVyb"
      },
      "source": [
        "plt.title(\"accuracies of various DL models\")\n",
        "for (acc, label) in zip(various_models_accuracies, model_labels):\n",
        "    plt.plot(range(1, len(acc)+1), acc, label=label)\n",
        "ax = plt.subplot(111)\n",
        "plt.xlabel(\"epochs\")\n",
        "plt.ylabel(\"accuracies\")\n",
        "box = ax.get_position()\n",
        "ax.set_position([box.x0, box.y0, box.width*0.8, box.height])\n",
        "ax.legend(loc=\"center left\", bbox_to_anchor=(1, 0.5))\n",
        "plt.show()"
      ],
      "execution_count": null,
      "outputs": []
    },
    {
      "cell_type": "code",
      "metadata": {
        "id": "9iJ1nLWwvf8C"
      },
      "source": [
        ""
      ],
      "execution_count": null,
      "outputs": []
    }
  ]
}